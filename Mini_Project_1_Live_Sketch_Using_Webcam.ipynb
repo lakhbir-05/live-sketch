{
  "cells": [
    {
      "cell_type": "markdown",
      "metadata": {
        "id": "view-in-github",
        "colab_type": "text"
      },
      "source": [
        "<a href=\"https://colab.research.google.com/github/lakhbir-05/live-sketch/blob/main/Mini_Project_1_Live_Sketch_Using_Webcam.ipynb\" target=\"_parent\"><img src=\"https://colab.research.google.com/assets/colab-badge.svg\" alt=\"Open In Colab\"/></a>"
      ]
    },
    {
      "cell_type": "markdown",
      "metadata": {
        "id": "cTZ-oqnqXMEV"
      },
      "source": [
        "## Mini Project # 1 - Live Sketch Using Webcam"
      ]
    },
    {
      "cell_type": "code",
      "execution_count": null,
      "metadata": {
        "id": "Jw9pQxZFXMEY",
        "outputId": "01356bfc-4464-43fc-ba5a-dbe8dea052f4",
        "colab": {
          "base_uri": "https://localhost:8080/",
          "height": 332
        }
      },
      "outputs": [
        {
          "output_type": "error",
          "ename": "error",
          "evalue": "OpenCV(4.11.0) /io/opencv/modules/imgproc/src/color.cpp:199: error: (-215:Assertion failed) !_src.empty() in function 'cvtColor'\n",
          "traceback": [
            "\u001b[0;31m---------------------------------------------------------------------------\u001b[0m",
            "\u001b[0;31merror\u001b[0m                                     Traceback (most recent call last)",
            "\u001b[0;32m/tmp/ipython-input-1-119341995.py\u001b[0m in \u001b[0;36m<cell line: 0>\u001b[0;34m()\u001b[0m\n\u001b[1;32m     25\u001b[0m \u001b[0;32mwhile\u001b[0m \u001b[0;32mTrue\u001b[0m\u001b[0;34m:\u001b[0m\u001b[0;34m\u001b[0m\u001b[0;34m\u001b[0m\u001b[0m\n\u001b[1;32m     26\u001b[0m     \u001b[0mret\u001b[0m\u001b[0;34m,\u001b[0m \u001b[0mframe\u001b[0m \u001b[0;34m=\u001b[0m \u001b[0mcap\u001b[0m\u001b[0;34m.\u001b[0m\u001b[0mread\u001b[0m\u001b[0;34m(\u001b[0m\u001b[0;34m)\u001b[0m\u001b[0;34m\u001b[0m\u001b[0;34m\u001b[0m\u001b[0m\n\u001b[0;32m---> 27\u001b[0;31m     \u001b[0mcv2\u001b[0m\u001b[0;34m.\u001b[0m\u001b[0mimshow\u001b[0m\u001b[0;34m(\u001b[0m\u001b[0;34m'Our Live Sketcher'\u001b[0m\u001b[0;34m,\u001b[0m \u001b[0msketch\u001b[0m\u001b[0;34m(\u001b[0m\u001b[0mframe\u001b[0m\u001b[0;34m)\u001b[0m\u001b[0;34m)\u001b[0m\u001b[0;34m\u001b[0m\u001b[0;34m\u001b[0m\u001b[0m\n\u001b[0m\u001b[1;32m     28\u001b[0m     \u001b[0;32mif\u001b[0m \u001b[0mcv2\u001b[0m\u001b[0;34m.\u001b[0m\u001b[0mwaitKey\u001b[0m\u001b[0;34m(\u001b[0m\u001b[0;36m1\u001b[0m\u001b[0;34m)\u001b[0m \u001b[0;34m==\u001b[0m \u001b[0;36m13\u001b[0m\u001b[0;34m:\u001b[0m \u001b[0;31m#13 is the Enter Key\u001b[0m\u001b[0;34m\u001b[0m\u001b[0;34m\u001b[0m\u001b[0m\n\u001b[1;32m     29\u001b[0m         \u001b[0;32mbreak\u001b[0m\u001b[0;34m\u001b[0m\u001b[0;34m\u001b[0m\u001b[0m\n",
            "\u001b[0;32m/tmp/ipython-input-1-119341995.py\u001b[0m in \u001b[0;36msketch\u001b[0;34m(image)\u001b[0m\n\u001b[1;32m      5\u001b[0m \u001b[0;32mdef\u001b[0m \u001b[0msketch\u001b[0m\u001b[0;34m(\u001b[0m\u001b[0mimage\u001b[0m\u001b[0;34m)\u001b[0m\u001b[0;34m:\u001b[0m\u001b[0;34m\u001b[0m\u001b[0;34m\u001b[0m\u001b[0m\n\u001b[1;32m      6\u001b[0m     \u001b[0;31m# Convert image to grayscale\u001b[0m\u001b[0;34m\u001b[0m\u001b[0;34m\u001b[0m\u001b[0m\n\u001b[0;32m----> 7\u001b[0;31m     \u001b[0mimg_gray\u001b[0m \u001b[0;34m=\u001b[0m \u001b[0mcv2\u001b[0m\u001b[0;34m.\u001b[0m\u001b[0mcvtColor\u001b[0m\u001b[0;34m(\u001b[0m\u001b[0mimage\u001b[0m\u001b[0;34m,\u001b[0m \u001b[0mcv2\u001b[0m\u001b[0;34m.\u001b[0m\u001b[0mCOLOR_BGR2GRAY\u001b[0m\u001b[0;34m)\u001b[0m\u001b[0;34m\u001b[0m\u001b[0;34m\u001b[0m\u001b[0m\n\u001b[0m\u001b[1;32m      8\u001b[0m \u001b[0;34m\u001b[0m\u001b[0m\n\u001b[1;32m      9\u001b[0m     \u001b[0;31m# Clean up image using Guassian Blur\u001b[0m\u001b[0;34m\u001b[0m\u001b[0;34m\u001b[0m\u001b[0m\n",
            "\u001b[0;31merror\u001b[0m: OpenCV(4.11.0) /io/opencv/modules/imgproc/src/color.cpp:199: error: (-215:Assertion failed) !_src.empty() in function 'cvtColor'\n"
          ]
        }
      ],
      "source": [
        "import cv2\n",
        "import numpy as np\n",
        "\n",
        "# Our sketch generating function\n",
        "  def sketch(image):\n",
        "  # Convert image to grayscale\n",
        "    img_gray = cv2.cvtColor(image, cv2.COLOR_BGR2GRAY)\n",
        "\n",
        "    # Clean up image using Guassian Blur\n",
        "    img_gray_blur = cv2.GaussianBlur(img_gray, (5,5), 0)\n",
        "    #Applies Gaussian blur to smooth the grayscale image.\n",
        "#Reduces noise and detail, which improves the quality of edge detection.\n",
        "#(5,5) is the kernel size — a square filter of 5×5 pixels.\n",
        "#0 is the standard deviation in the X direction (automatically calculated).\n",
        "\n",
        "    # Extract edges\n",
        "    canny_edges = cv2.Canny(img_gray_blur, 50, 20)\n",
        " #   Applies the Canny Edge Detection algorithm.\n",
        "#Detects edges in the blurred image.\n",
        "#50 is the high threshold and 20 is the low threshold — these control sensitivity to edges.\n",
        "#This returns a binary image where edges are white (255) and everything else is black (0).\n",
        "# Do an invert binarize the image\n",
        "    ret, mask = cv2.threshold(canny_edges, 100, 255, cv2.THRESH_BINARY_INV)\n",
        "    return mask\n",
        "   # Applies binary inverse thresholding:\n",
        "#Pixels > 100 become 0 (black)\n",
        "#Pixels ≤ 100 become 255 (white)\n",
        "#This essentially inverts the edges, so you get black lines on a white background (like a pencil sketch).\n",
        "#ret is a dummy variable (often used with cv2.threshold) and isn't used later.\n",
        "\n",
        "\n",
        "# Initialize webcam, cap is the object provided by VideoCapture\n",
        "# It contains a boolean indicating if it was sucessful (ret)\n",
        "# It also contains the images collected from the webcam (frame)\n",
        "cap = cv2.VideoCapture(0)\n",
        "#Initializes the webcam for live video capture.\n",
        "#0 is the default camera device index.\n",
        "#cap is a VideoCapture object that interfaces with your webcam\n",
        "while True:\n",
        "    ret, frame = cap.read()\n",
        "    #cap.read() captures a frame from the webcam:\n",
        "#ret: Boolean flag (True if the frame was successfully read)\n",
        "#frame: The actual image/frame captured from the webcam\n",
        "    cv2.imshow('Our Live Sketcher', sketch(frame))\n",
        "    if cv2.waitKey(1) == 13: #13 is the Enter Key\n",
        "        break\n",
        "       # cv2.waitKey(1) waits 1 ms for a key press.\n",
        "#If the Enter key (ASCII 13) is pressed, it breaks the loop and ends the video stream.\n",
        "# Release camera and close windows\n",
        "cap.release()\n",
        "cv2.destroyAllWindows()"
      ]
    },
    {
      "cell_type": "code",
      "execution_count": null,
      "metadata": {
        "collapsed": true,
        "jupyter": {
          "outputs_hidden": true
        },
        "id": "SmYd0IrcXMEb"
      },
      "outputs": [],
      "source": []
    }
  ],
  "metadata": {
    "kernelspec": {
      "display_name": "Python 3 (ipykernel)",
      "language": "python",
      "name": "python3"
    },
    "language_info": {
      "codemirror_mode": {
        "name": "ipython",
        "version": 3
      },
      "file_extension": ".py",
      "mimetype": "text/x-python",
      "name": "python",
      "nbconvert_exporter": "python",
      "pygments_lexer": "ipython3",
      "version": "3.11.7"
    },
    "colab": {
      "provenance": [],
      "include_colab_link": true
    }
  },
  "nbformat": 4,
  "nbformat_minor": 0
}