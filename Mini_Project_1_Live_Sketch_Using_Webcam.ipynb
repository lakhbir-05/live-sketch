{
  "cells": [
    {
      "cell_type": "markdown",
      "metadata": {
        "id": "view-in-github",
        "colab_type": "text"
      },
      "source": [
        "<a href=\"https://colab.research.google.com/github/lakhbir-05/live-sketch/blob/main/Mini_Project_1_Live_Sketch_Using_Webcam.ipynb\" target=\"_parent\"><img src=\"https://colab.research.google.com/assets/colab-badge.svg\" alt=\"Open In Colab\"/></a>"
      ]
    },
    {
      "cell_type": "markdown",
      "metadata": {
        "id": "cTZ-oqnqXMEV"
      },
      "source": [
        "## Mini Project # 1 - Live Sketch Using Webcam"
      ]
    },
    {
      "cell_type": "code",
      "source": [
        "import cv2\n",
        "import numpy as np\n",
        "\n",
        "# Our sketch generating function\n",
        "def sketch(image):\n",
        "  # Convert image to grayscale\n",
        "    img_gray = cv2.cvtColor(image, cv2.COLOR_BGR2GRAY)\n",
        "\n",
        "    # Clean up image using Guassian Blur\n",
        "    img_gray_blur = cv2.GaussianBlur(img_gray, (5,5), 0)\n",
        "    #Applies Gaussian blur to smooth the grayscale image.\n",
        "#Reduces noise and detail, which improves the quality of edge detection.\n",
        "#(5,5) is the kernel size — a square filter of 5×5 pixels.\n",
        "#0 is the standard deviation in the X direction (automatically calculated).\n",
        "\n",
        "    # Extract edges\n",
        "    canny_edges = cv2.Canny(img_gray_blur, 50, 20)\n",
        " #   Applies the Canny Edge Detection algorithm.\n",
        "#Detects edges in the blurred image.\n",
        "#50 is the high threshold and 20 is the low threshold — these control sensitivity to edges.\n",
        "#This returns a binary image where edges are white (255) and everything else is black (0).\n",
        "# Do an invert binarize the image\n",
        "    ret, mask = cv2.threshold(canny_edges, 100, 255, cv2.THRESH_BINARY_INV)\n",
        "    return mask\n",
        "   # Applies binary inverse thresholding:\n",
        "#Pixels > 100 become 0 (black)\n",
        "#Pixels ≤ 100 become 255 (white)\n",
        "#This essentially inverts the edges, so you get black lines on a white background (like a pencil sketch).\n",
        "#ret is a dummy variable (often used with cv2.threshold) and isn't used later.\n",
        "\n",
        "\n",
        "# Initialize webcam, cap is the object provided by VideoCapture\n",
        "# It contains a boolean indicating if it was sucessful (ret)\n",
        "# It also contains the images collected from the webcam (frame)\n",
        "cap = cv2.VideoCapture(0)\n",
        "#Initializes the webcam for live video capture.\n",
        "#0 is the default camera device index.\n",
        "#cap is a VideoCapture object that interfaces with your webcam\n",
        "while True:\n",
        "    ret, frame = cap.read()\n",
        "    #cap.read() captures a frame from the webcam:\n",
        "#ret: Boolean flag (True if the frame was successfully read)\n",
        "#frame: The actual image/frame captured from the webcam\n",
        "    cv2.imshow('Our Live Sketcher', sketch(frame))\n",
        "    if cv2.waitKey(1) == 13: #13 is the Enter Key\n",
        "        break\n",
        "       # cv2.waitKey(1) waits 1 ms for a key press.\n",
        "#If the Enter key (ASCII 13) is pressed, it breaks the loop and ends the video stream.\n",
        "# Release camera and close windows\n",
        "cap.release()\n",
        "cv2.destroyAllWindows()"
      ],
      "metadata": {
        "id": "k6qSjp97SimQ"
      },
      "execution_count": null,
      "outputs": []
    }
  ],
  "metadata": {
    "kernelspec": {
      "display_name": "Python 3 (ipykernel)",
      "language": "python",
      "name": "python3"
    },
    "language_info": {
      "codemirror_mode": {
        "name": "ipython",
        "version": 3
      },
      "file_extension": ".py",
      "mimetype": "text/x-python",
      "name": "python",
      "nbconvert_exporter": "python",
      "pygments_lexer": "ipython3",
      "version": "3.11.7"
    },
    "colab": {
      "provenance": [],
      "include_colab_link": true
    }
  },
  "nbformat": 4,
  "nbformat_minor": 0
}